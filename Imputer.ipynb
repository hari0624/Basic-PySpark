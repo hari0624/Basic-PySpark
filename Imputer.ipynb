{
 "cells": [
  {
   "cell_type": "code",
   "execution_count": null,
   "metadata": {},
   "outputs": [],
   "source": [
    "# Example of Imputer function in PySpark\n",
    "# ref: https://spark.apache.org/docs/latest/api/python/pyspark.ml.html#pyspark.ml.feature.Imputer\n",
    "\n",
    "\"\"\" What is Imputation?\n",
    "Imputation means replacing the missing values in a dataset with the substituted values.\n",
    "The substituted values can be any random value, mean, median. But it is not advisable to use random values.\n",
    "The common methods are mean, median.\n",
    "In PySpark, the Imputer function is used to fill the missing values either by mean or meadian of the column.\n",
    "The column should be of type Double or Float. \n",
    "Currently PySpark does not support cateforical features.\n",
    "\n",
    "Note: mean, median values are computed after filtering out the missing values\n",
    "\"\"\""
   ]
  },
  {
   "cell_type": "code",
   "execution_count": 2,
   "metadata": {},
   "outputs": [],
   "source": [
    "from __future__ import print_function\n",
    "from pyspark.ml.feature import Imputer\n",
    "from pyspark.sql import SparkSession"
   ]
  },
  {
   "cell_type": "code",
   "execution_count": 3,
   "metadata": {},
   "outputs": [],
   "source": [
    "spark = SparkSession \\\n",
    "    .builder \\\n",
    "    .appName(\"Imputer_Example\") \\\n",
    "    .config(\"spark.some.config.option\", \"some-value\") \\\n",
    "    .getOrCreate()"
   ]
  },
  {
   "cell_type": "code",
   "execution_count": 5,
   "metadata": {},
   "outputs": [],
   "source": [
    "# creating sample data manually within the program\n",
    "\n",
    "df = spark.createDataFrame([\n",
    "    (10.0, 10.1),\n",
    "    (20.0, float(\"nan\")),\n",
    "    (30.0, float(\"nan\")),\n",
    "    (float(\"nan\"), 40.1),\n",
    "    (50.0, 50.1),\n",
    "    (60.0, 60.1),\n",
    "    (70.0, 70.1)\n",
    "], [\"x\", \"y\"])"
   ]
  },
  {
   "cell_type": "code",
   "execution_count": 6,
   "metadata": {},
   "outputs": [
    {
     "name": "stdout",
     "output_type": "stream",
     "text": [
      "+----+----+\n",
      "|   x|   y|\n",
      "+----+----+\n",
      "|10.0|10.1|\n",
      "|20.0| NaN|\n",
      "|30.0| NaN|\n",
      "| NaN|40.1|\n",
      "|50.0|50.1|\n",
      "|60.0|60.1|\n",
      "|70.0|70.1|\n",
      "+----+----+\n",
      "\n"
     ]
    }
   ],
   "source": [
    "df.show()"
   ]
  },
  {
   "cell_type": "code",
   "execution_count": 8,
   "metadata": {},
   "outputs": [],
   "source": [
    "# triggering Imputer function\n",
    "imputer = Imputer(inputCols=[\"x\", \"y\"], outputCols=[\"im_x\", \"im_y\"])"
   ]
  },
  {
   "cell_type": "code",
   "execution_count": 9,
   "metadata": {},
   "outputs": [],
   "source": [
    "# fiting the model\n",
    "model = imputer.fit(df)"
   ]
  },
  {
   "cell_type": "code",
   "execution_count": 10,
   "metadata": {},
   "outputs": [
    {
     "name": "stdout",
     "output_type": "stream",
     "text": [
      "+----+----+----+----+\n",
      "|   x|   y|im_x|im_y|\n",
      "+----+----+----+----+\n",
      "|10.0|10.1|10.0|10.1|\n",
      "|20.0| NaN|20.0|46.1|\n",
      "|30.0| NaN|30.0|46.1|\n",
      "| NaN|40.1|40.0|40.1|\n",
      "|50.0|50.1|50.0|50.1|\n",
      "|60.0|60.1|60.0|60.1|\n",
      "|70.0|70.1|70.0|70.1|\n",
      "+----+----+----+----+\n",
      "\n"
     ]
    }
   ],
   "source": [
    "model.transform(df).show()"
   ]
  },
  {
   "cell_type": "code",
   "execution_count": 11,
   "metadata": {},
   "outputs": [
    {
     "name": "stdout",
     "output_type": "stream",
     "text": [
      "+----+----+----+----+\n",
      "|   x|   y|im_x|im_y|\n",
      "+----+----+----+----+\n",
      "|10.0|10.1|10.0|10.1|\n",
      "|20.0| NaN|20.0|50.1|\n",
      "|30.0| NaN|30.0|50.1|\n",
      "| NaN|40.1|30.0|40.1|\n",
      "|50.0|50.1|50.0|50.1|\n",
      "|60.0|60.1|60.0|60.1|\n",
      "|70.0|70.1|70.0|70.1|\n",
      "+----+----+----+----+\n",
      "\n"
     ]
    }
   ],
   "source": [
    "# Explicitly declaring median as Imputation estimator.\n",
    "impute_median = imputer.setStrategy(\"median\").fit(df).transform(df).show()"
   ]
  },
  {
   "cell_type": "code",
   "execution_count": 12,
   "metadata": {},
   "outputs": [
    {
     "name": "stdout",
     "output_type": "stream",
     "text": [
      "+----+----+----+----+\n",
      "|   x|   y|im_x|im_y|\n",
      "+----+----+----+----+\n",
      "|10.0|10.1|10.0|10.1|\n",
      "|20.0| NaN|20.0|46.1|\n",
      "|30.0| NaN|30.0|46.1|\n",
      "| NaN|40.1|40.0|40.1|\n",
      "|50.0|50.1|50.0|50.1|\n",
      "|60.0|60.1|60.0|60.1|\n",
      "|70.0|70.1|70.0|70.1|\n",
      "+----+----+----+----+\n",
      "\n"
     ]
    }
   ],
   "source": [
    "# Explicitly declaring mean as Imputation estimator (different way)\n",
    "impute_mean = imputer.setStrategy(\"mean\")\n",
    "model1 = impute_mean.fit(df)\n",
    "model1.transform(df).show()"
   ]
  },
  {
   "cell_type": "code",
   "execution_count": null,
   "metadata": {},
   "outputs": [],
   "source": [
    "#the above and below 2 step shows that the default strategy for calculating Imputation estimator is Mean."
   ]
  },
  {
   "cell_type": "code",
   "execution_count": 13,
   "metadata": {},
   "outputs": [
    {
     "name": "stdout",
     "output_type": "stream",
     "text": [
      "+----+----+\n",
      "|   x|   y|\n",
      "+----+----+\n",
      "|40.0|46.1|\n",
      "+----+----+\n",
      "\n"
     ]
    }
   ],
   "source": [
    "# to find out what is the replacing values in each columns by using the \"surrogateDF\"\n",
    "model.surrogateDF.show()"
   ]
  },
  {
   "cell_type": "code",
   "execution_count": 14,
   "metadata": {},
   "outputs": [
    {
     "name": "stdout",
     "output_type": "stream",
     "text": [
      "+----+----+\n",
      "|   x|   y|\n",
      "+----+----+\n",
      "|40.0|46.1|\n",
      "+----+----+\n",
      "\n"
     ]
    }
   ],
   "source": [
    "model1.surrogateDF.show()"
   ]
  },
  {
   "cell_type": "code",
   "execution_count": 15,
   "metadata": {},
   "outputs": [
    {
     "name": "stdout",
     "output_type": "stream",
     "text": [
      "+----+----+\n",
      "|   x|   y|\n",
      "+----+----+\n",
      "|30.0|50.1|\n",
      "+----+----+\n",
      "\n"
     ]
    }
   ],
   "source": [
    "# to find the replacing values in median\n",
    "impute_median = imputer.setStrategy(\"median\")\n",
    "model2 = impute_median.fit(df)\n",
    "model2.surrogateDF.show()"
   ]
  }
 ],
 "metadata": {
  "kernelspec": {
   "display_name": "Python 3",
   "language": "python",
   "name": "python3"
  },
  "language_info": {
   "codemirror_mode": {
    "name": "ipython",
    "version": 3
   },
   "file_extension": ".py",
   "mimetype": "text/x-python",
   "name": "python",
   "nbconvert_exporter": "python",
   "pygments_lexer": "ipython3",
   "version": "3.6.5"
  }
 },
 "nbformat": 4,
 "nbformat_minor": 2
}

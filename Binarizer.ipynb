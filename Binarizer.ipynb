{
 "cells": [
  {
   "cell_type": "code",
   "execution_count": null,
   "metadata": {},
   "outputs": [],
   "source": [
    "# Binarizer Example\n",
    "# Reference: https://spark.apache.org/docs/latest/api/python/pyspark.ml.html#pyspark.ml.feature.Binarizer\n",
    "\n",
    "\"\"\" In classification problem, when the input data is continuous and the expected output is binary, \n",
    "then this Binarizer helps to solve the classification problem in few lines of code.\n",
    "For example, from the Marks Data one wants to classify students into Pass and Fail. \n",
    "Hence the aim is to find out the pass and fail status of the students, based on a threshold (here it is pass mark).\"\"\""
   ]
  },
  {
   "cell_type": "code",
   "execution_count": 2,
   "metadata": {},
   "outputs": [],
   "source": [
    "from __future__ import print_function\n",
    "from pyspark.sql import SparkSession\n",
    "from pyspark.ml.feature import Binarizer"
   ]
  },
  {
   "cell_type": "code",
   "execution_count": 3,
   "metadata": {},
   "outputs": [],
   "source": [
    "from pyspark.sql.types import *"
   ]
  },
  {
   "cell_type": "code",
   "execution_count": 4,
   "metadata": {},
   "outputs": [],
   "source": [
    "spark = SparkSession \\\n",
    "    .builder \\\n",
    "    .appName(\"BinarizerExample\") \\\n",
    "    .config(\"spark.some.config.optyion\", \"some-value\") \\\n",
    "    .getOrCreate()"
   ]
  },
  {
   "cell_type": "code",
   "execution_count": 5,
   "metadata": {},
   "outputs": [],
   "source": [
    "df = spark.createDataFrame([\n",
    "    (\"Hari\", 34.0),\n",
    "    (\"Mah\", 80.0),\n",
    "    (\"Swar\", 90.0)\n",
    "], [\"Name\", \"Mark\"])"
   ]
  },
  {
   "cell_type": "code",
   "execution_count": 6,
   "metadata": {},
   "outputs": [],
   "source": [
    "br = Binarizer(threshold=35.0, inputCol=\"Mark\", outputCol=\"b_mark\")"
   ]
  },
  {
   "cell_type": "code",
   "execution_count": 7,
   "metadata": {},
   "outputs": [],
   "source": [
    "brdf = br.transform(df)"
   ]
  },
  {
   "cell_type": "code",
   "execution_count": 8,
   "metadata": {},
   "outputs": [
    {
     "name": "stdout",
     "output_type": "stream",
     "text": [
      "Binarizer output with Threshold = 35.000000\n",
      "+----+----+------+\n",
      "|Name|Mark|b_mark|\n",
      "+----+----+------+\n",
      "|Hari|34.0|   0.0|\n",
      "| Mah|80.0|   1.0|\n",
      "|Swar|90.0|   1.0|\n",
      "+----+----+------+\n",
      "\n"
     ]
    }
   ],
   "source": [
    "print(\"Binarizer output with Threshold = %f\" % br.getThreshold())\n",
    "brdf.show()"
   ]
  }
 ],
 "metadata": {
  "kernelspec": {
   "display_name": "Python 3",
   "language": "python",
   "name": "python3"
  },
  "language_info": {
   "codemirror_mode": {
    "name": "ipython",
    "version": 3
   },
   "file_extension": ".py",
   "mimetype": "text/x-python",
   "name": "python",
   "nbconvert_exporter": "python",
   "pygments_lexer": "ipython3",
   "version": "3.6.5"
  }
 },
 "nbformat": 4,
 "nbformat_minor": 2
}
